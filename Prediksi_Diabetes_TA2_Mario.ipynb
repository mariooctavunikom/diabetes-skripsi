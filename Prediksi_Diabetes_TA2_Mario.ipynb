{
  "cells": [
    {
      "attachments": {},
      "cell_type": "markdown",
      "metadata": {
        "id": "LnPbntVRnfvV"
      },
      "source": [
        "Inisialisasi Program"
      ]
    },
    {
      "cell_type": "code",
      "execution_count": null,
      "metadata": {
        "id": "-71UtHzNVWjB"
      },
      "outputs": [],
      "source": [
        "import numpy as np\n",
        "import pandas as pd\n",
        "from sklearn.preprocessing import StandardScaler\n",
        "from sklearn.model_selection import train_test_split\n",
        "from sklearn import svm\n",
        "from sklearn.metrics import accuracy_score"
      ]
    },
    {
      "attachments": {},
      "cell_type": "markdown",
      "metadata": {
        "id": "bmfOfG8joBBy"
      },
      "source": [
        "Pengumpulan dan Analisa Data\n",
        "\n",
        "Dataset Diabetes Kaggle"
      ]
    },
    {
      "cell_type": "code",
      "execution_count": null,
      "metadata": {
        "id": "Xpw6Mj_pn_TL"
      },
      "outputs": [],
      "source": [
        "# Memanggil Dataset ke Dataframe Pandas\n",
        "diabetes_dataset = pd.read_csv('diabetes.csv') "
      ]
    },
    {
      "cell_type": "code",
      "execution_count": null,
      "metadata": {
        "id": "eupSUC7yoo9M"
      },
      "outputs": [],
      "source": [
        "pd.read_csv?"
      ]
    },
    {
      "cell_type": "code",
      "execution_count": null,
      "metadata": {
        "colab": {
          "base_uri": "https://localhost:8080/",
          "height": 270
        },
        "id": "-tjO09ncovoh",
        "outputId": "19a38fc1-7701-41df-bdea-899e5fbf5130"
      },
      "outputs": [],
      "source": [
        "# Mencetak 5 data teratas pada Dataset\n",
        "diabetes_dataset.head()"
      ]
    },
    {
      "cell_type": "code",
      "execution_count": null,
      "metadata": {
        "colab": {
          "base_uri": "https://localhost:8080/"
        },
        "id": "lynParo6pEMB",
        "outputId": "47130bea-ff93-4c4b-eb5e-37b881160785"
      },
      "outputs": [],
      "source": [
        "# Melakukan pengecekan jumlah tabel dan baris pada Dataset\n",
        "diabetes_dataset.shape"
      ]
    },
    {
      "cell_type": "code",
      "execution_count": null,
      "metadata": {
        "colab": {
          "base_uri": "https://localhost:8080/",
          "height": 364
        },
        "id": "3NDJOlrEpmoL",
        "outputId": "e3163783-9f21-4d56-c509-8b71e9d79cb5"
      },
      "outputs": [],
      "source": [
        "# Melakukan pengecekan nilai min, max, mean dsb.\n",
        "diabetes_dataset.describe()"
      ]
    },
    {
      "cell_type": "code",
      "execution_count": null,
      "metadata": {
        "colab": {
          "base_uri": "https://localhost:8080/"
        },
        "id": "LrpHzaGpp5dQ",
        "outputId": "49a0a28a-998e-4aaa-a003-edbfe696c3da"
      },
      "outputs": [],
      "source": [
        "diabetes_dataset['Outcome'].value_counts()"
      ]
    },
    {
      "attachments": {},
      "cell_type": "markdown",
      "metadata": {
        "id": "cB1qRaNcqeh5"
      },
      "source": [
        "0 = Tidak mengidap Diabetes\n",
        "\n",
        "1 = Mengidap Diabetes"
      ]
    },
    {
      "cell_type": "code",
      "execution_count": null,
      "metadata": {
        "colab": {
          "base_uri": "https://localhost:8080/",
          "height": 207
        },
        "id": "I6MWR0k_qSCK",
        "outputId": "d8cb1831-3aa1-4d74-bc46-5c8c8b5b05da"
      },
      "outputs": [],
      "source": [
        "diabetes_dataset.groupby('Outcome').mean()"
      ]
    },
    {
      "cell_type": "code",
      "execution_count": null,
      "metadata": {
        "id": "RoDW7l9mqqHZ"
      },
      "outputs": [],
      "source": [
        "# Pemisahan Data Label\n",
        "X = diabetes_dataset.drop(columns = 'Outcome', axis=1)\n",
        "Y = diabetes_dataset['Outcome']"
      ]
    },
    {
      "cell_type": "code",
      "execution_count": null,
      "metadata": {
        "colab": {
          "base_uri": "https://localhost:8080/"
        },
        "id": "3eiRW9M9raMm",
        "outputId": "9869688e-471b-463e-ccdd-20122e018257"
      },
      "outputs": [],
      "source": [
        "print(X)"
      ]
    },
    {
      "cell_type": "code",
      "execution_count": null,
      "metadata": {
        "colab": {
          "base_uri": "https://localhost:8080/"
        },
        "id": "AoxgTJAMrcCl",
        "outputId": "44a9df03-871b-4cc1-f4d6-cc4d781f663b"
      },
      "outputs": [],
      "source": [
        "print(Y)"
      ]
    },
    {
      "attachments": {},
      "cell_type": "markdown",
      "metadata": {
        "id": "gHciEFkxsoQP"
      },
      "source": [
        "Pemisahan Data Latih dan Test"
      ]
    },
    {
      "cell_type": "code",
      "execution_count": null,
      "metadata": {
        "id": "AEfKGj_yslvD"
      },
      "outputs": [],
      "source": [
        "X_train, X_test, Y_train, Y_test = train_test_split(X,Y, test_size = 0.2, stratify=Y, random_state=2)"
      ]
    },
    {
      "cell_type": "code",
      "execution_count": null,
      "metadata": {
        "id": "DR05T-o0t3FQ"
      },
      "outputs": [],
      "source": [
        "print(X.shape, X_train.shape, X_test.shape)"
      ]
    },
    {
      "attachments": {},
      "cell_type": "markdown",
      "metadata": {
        "id": "ElJ3tkOtuC_n"
      },
      "source": [
        "Melakukan Training Pada Model SVM"
      ]
    },
    {
      "cell_type": "code",
      "execution_count": null,
      "metadata": {
        "id": "5szLWHlNt9xc"
      },
      "outputs": [],
      "source": [
        "model = svm.SVC(kernel='linear')"
      ]
    },
    {
      "cell_type": "code",
      "execution_count": null,
      "metadata": {
        "id": "ncJWY_7suPAb"
      },
      "outputs": [],
      "source": [
        "#Melakukan \"training\" pada SVM Classifier\n",
        "model.fit(X_train, Y_train)"
      ]
    },
    {
      "attachments": {},
      "cell_type": "markdown",
      "metadata": {
        "id": "UV4-CAfquiyP"
      },
      "source": [
        "Evaluasi Model"
      ]
    },
    {
      "attachments": {},
      "cell_type": "markdown",
      "metadata": {
        "id": "yhAjGPJWunXa"
      },
      "source": [
        "Pengecekan Tingkat Akurasi"
      ]
    },
    {
      "cell_type": "code",
      "execution_count": null,
      "metadata": {
        "id": "fJLEPQK7ueXp"
      },
      "outputs": [],
      "source": [
        "# Nilai akurasi pada Data Latih\n",
        "X_train_prediction = model.predict(X_train)\n",
        "training_data_accuracy = accuracy_score(X_train_prediction, Y_train)"
      ]
    },
    {
      "cell_type": "code",
      "execution_count": null,
      "metadata": {
        "colab": {
          "base_uri": "https://localhost:8080/"
        },
        "id": "mmJ22qhVvNwj",
        "outputId": "92b1c0a7-0262-46a6-ca8b-65eba5a6347b"
      },
      "outputs": [],
      "source": [
        "print('Tingkat Akurasi Pada Data Latih : ', training_data_accuracy)"
      ]
    },
    {
      "cell_type": "code",
      "execution_count": null,
      "metadata": {
        "id": "G2CICFMEvcCl"
      },
      "outputs": [],
      "source": [
        "# Nilai akurasi pada Data Test\n",
        "X_test_prediction = model.predict(X_test)\n",
        "test_data_accuracy = accuracy_score(X_test_prediction, Y_test)"
      ]
    },
    {
      "cell_type": "code",
      "execution_count": null,
      "metadata": {
        "id": "i2GcW_t_vz7C"
      },
      "outputs": [],
      "source": [
        "print('Tingkat Akurasi Pada Data Test : ', test_data_accuracy)"
      ]
    },
    {
      "attachments": {},
      "cell_type": "markdown",
      "metadata": {
        "id": "gq8ZX1xpwPF5"
      },
      "source": [
        "Membuat Sistem Prediksi Diabetes"
      ]
    },
    {
      "cell_type": "code",
      "execution_count": null,
      "metadata": {
        "id": "U-ULRe4yv5tH"
      },
      "outputs": [],
      "source": [
        "input_data = (1,85,66,29,0,26.6,0.351,31)\n",
        "\n",
        "# Perintah untuk merubah data input menjadi array numpy\n",
        "input_data_as_numpy_array = np.asarray(input_data)\n",
        "\n",
        "# Membentuk ulang array menjadi satu data\n",
        "input_data_reshaped = input_data_as_numpy_array.reshape(1,-1)\n",
        "\n",
        "prediction = model.predict(input_data_reshaped)\n",
        "print(prediction)\n",
        "\n",
        "if (prediction[0] == 0):\n",
        "  print('Pasien tidak mengalami diabetes')\n",
        "else:\n",
        "  print('Pasien mengalami diabetes')"
      ]
    },
    {
      "cell_type": "code",
      "execution_count": null,
      "metadata": {
        "id": "Ex2A_pr4yCpm"
      },
      "outputs": [],
      "source": [
        "import pickle"
      ]
    },
    {
      "cell_type": "code",
      "execution_count": null,
      "metadata": {},
      "outputs": [],
      "source": [
        "filename = 'diabetes_model.sav'\n",
        "pickle.dump(model, open(filename,'wb'))"
      ]
    }
  ],
  "metadata": {
    "colab": {
      "provenance": []
    },
    "kernelspec": {
      "display_name": "Python 3",
      "name": "python3"
    },
    "language_info": {
      "codemirror_mode": {
        "name": "ipython",
        "version": 3
      },
      "file_extension": ".py",
      "mimetype": "text/x-python",
      "name": "python",
      "nbconvert_exporter": "python",
      "pygments_lexer": "ipython3",
      "version": "3.10.4"
    }
  },
  "nbformat": 4,
  "nbformat_minor": 0
}
